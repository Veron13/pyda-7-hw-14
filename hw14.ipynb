{
 "cells": [
  {
   "cell_type": "code",
   "execution_count": 8,
   "metadata": {},
   "outputs": [],
   "source": [
    "#увеличим дефолтный размер графиков\n",
    "from pylab import rcParams\n",
    "rcParams['figure.figsize'] = 15,7\n",
    "\n",
    "# импортируем нужные библиотеки\n",
    "import pandas as pd\n",
    "import matplotlib.pyplot as plt"
   ]
  },
  {
   "cell_type": "code",
   "execution_count": 2,
   "metadata": {},
   "outputs": [
    {
     "name": "stdout",
     "output_type": "stream",
     "text": [
      "(1659, 8)\n"
     ]
    },
    {
     "data": {
      "text/html": [
       "<div>\n",
       "<style scoped>\n",
       "    .dataframe tbody tr th:only-of-type {\n",
       "        vertical-align: middle;\n",
       "    }\n",
       "\n",
       "    .dataframe tbody tr th {\n",
       "        vertical-align: top;\n",
       "    }\n",
       "\n",
       "    .dataframe thead th {\n",
       "        text-align: right;\n",
       "    }\n",
       "</style>\n",
       "<table border=\"1\" class=\"dataframe\">\n",
       "  <thead>\n",
       "    <tr style=\"text-align: right;\">\n",
       "      <th></th>\n",
       "      <th>Year</th>\n",
       "      <th>Viewing time</th>\n",
       "      <th>Name of film</th>\n",
       "      <th>Genre</th>\n",
       "      <th>Regisseur</th>\n",
       "      <th>Rating</th>\n",
       "      <th>Awards</th>\n",
       "      <th>Actors</th>\n",
       "    </tr>\n",
       "  </thead>\n",
       "  <tbody>\n",
       "    <tr>\n",
       "      <td>0</td>\n",
       "      <td>1990</td>\n",
       "      <td>111.0</td>\n",
       "      <td>Tie Me Up! Tie Me Down!</td>\n",
       "      <td>Comedy</td>\n",
       "      <td>Almodуvar, Pedro</td>\n",
       "      <td>68.0</td>\n",
       "      <td>No</td>\n",
       "      <td>Banderas, Antonio,Abril, Victoria</td>\n",
       "    </tr>\n",
       "    <tr>\n",
       "      <td>1</td>\n",
       "      <td>1991</td>\n",
       "      <td>113.0</td>\n",
       "      <td>High Heels</td>\n",
       "      <td>Comedy</td>\n",
       "      <td>Almodуvar, Pedro</td>\n",
       "      <td>68.0</td>\n",
       "      <td>No</td>\n",
       "      <td>Bosй, Miguel,Abril, Victoria</td>\n",
       "    </tr>\n",
       "    <tr>\n",
       "      <td>2</td>\n",
       "      <td>1983</td>\n",
       "      <td>104.0</td>\n",
       "      <td>Dead Zone, The</td>\n",
       "      <td>Horror</td>\n",
       "      <td>Cronenberg, David</td>\n",
       "      <td>79.0</td>\n",
       "      <td>No</td>\n",
       "      <td>Walken, Christopher,Adams, Brooke</td>\n",
       "    </tr>\n",
       "    <tr>\n",
       "      <td>3</td>\n",
       "      <td>1979</td>\n",
       "      <td>122.0</td>\n",
       "      <td>Cuba</td>\n",
       "      <td>Action</td>\n",
       "      <td>Lester, Richard</td>\n",
       "      <td>6.0</td>\n",
       "      <td>No</td>\n",
       "      <td>Connery, Sean,Adams, Brooke</td>\n",
       "    </tr>\n",
       "    <tr>\n",
       "      <td>4</td>\n",
       "      <td>1978</td>\n",
       "      <td>94.0</td>\n",
       "      <td>Days of Heaven</td>\n",
       "      <td>Drama</td>\n",
       "      <td>Malick, Terrence</td>\n",
       "      <td>14.0</td>\n",
       "      <td>No</td>\n",
       "      <td>Gere, Richard,Adams, Brooke</td>\n",
       "    </tr>\n",
       "    <tr>\n",
       "      <td>5</td>\n",
       "      <td>1983</td>\n",
       "      <td>140.0</td>\n",
       "      <td>Octopussy</td>\n",
       "      <td>Action</td>\n",
       "      <td>Glen, John</td>\n",
       "      <td>68.0</td>\n",
       "      <td>No</td>\n",
       "      <td>Moore, Roger,Adams, Maud</td>\n",
       "    </tr>\n",
       "    <tr>\n",
       "      <td>6</td>\n",
       "      <td>1984</td>\n",
       "      <td>101.0</td>\n",
       "      <td>Target Eagle</td>\n",
       "      <td>Action</td>\n",
       "      <td>Loma, Josй Antonio de la</td>\n",
       "      <td>14.0</td>\n",
       "      <td>No</td>\n",
       "      <td>Connors, Chuck,Adams, Maud</td>\n",
       "    </tr>\n",
       "    <tr>\n",
       "      <td>7</td>\n",
       "      <td>1989</td>\n",
       "      <td>99.0</td>\n",
       "      <td>American Angels: Baptism of Blood, The</td>\n",
       "      <td>Drama</td>\n",
       "      <td>Sebastian, Beverly</td>\n",
       "      <td>28.0</td>\n",
       "      <td>No</td>\n",
       "      <td>Bergen, Robert D.,Adams, Trudy</td>\n",
       "    </tr>\n",
       "    <tr>\n",
       "      <td>8</td>\n",
       "      <td>1985</td>\n",
       "      <td>104.0</td>\n",
       "      <td>Subway</td>\n",
       "      <td>Drama</td>\n",
       "      <td>Besson, Luc</td>\n",
       "      <td>6.0</td>\n",
       "      <td>No</td>\n",
       "      <td>Lambert, Christopher,Adjani, Isabelle</td>\n",
       "    </tr>\n",
       "    <tr>\n",
       "      <td>9</td>\n",
       "      <td>1990</td>\n",
       "      <td>149.0</td>\n",
       "      <td>Camille Claudel</td>\n",
       "      <td>Drama</td>\n",
       "      <td>Nuytten, Bruno</td>\n",
       "      <td>32.0</td>\n",
       "      <td>No</td>\n",
       "      <td>Depardieu, Gйrard,Adjani, Isabelle</td>\n",
       "    </tr>\n",
       "    <tr>\n",
       "      <td>10</td>\n",
       "      <td>1982</td>\n",
       "      <td>188.0</td>\n",
       "      <td>Fanny and Alexander</td>\n",
       "      <td>Drama</td>\n",
       "      <td>Bergman, Ingmar</td>\n",
       "      <td>81.0</td>\n",
       "      <td>Yes</td>\n",
       "      <td>Ahlstedt, Bцrje,Adolphson, Kristina</td>\n",
       "    </tr>\n",
       "    <tr>\n",
       "      <td>11</td>\n",
       "      <td>1982</td>\n",
       "      <td>117.0</td>\n",
       "      <td>Tragedy of a Ridiculous Man</td>\n",
       "      <td>Drama</td>\n",
       "      <td>Bertolucci, Bernardo</td>\n",
       "      <td>17.0</td>\n",
       "      <td>No</td>\n",
       "      <td>Tognazzi, Ugo,Aimee, Anouk</td>\n",
       "    </tr>\n",
       "    <tr>\n",
       "      <td>12</td>\n",
       "      <td>1966</td>\n",
       "      <td>103.0</td>\n",
       "      <td>A Man &amp; a Woman</td>\n",
       "      <td>Drama</td>\n",
       "      <td>Lelouch, Claude</td>\n",
       "      <td>46.0</td>\n",
       "      <td>Yes</td>\n",
       "      <td>Trintignant, Jean-Louis,Aimee, Anouk</td>\n",
       "    </tr>\n",
       "    <tr>\n",
       "      <td>13</td>\n",
       "      <td>1986</td>\n",
       "      <td>112.0</td>\n",
       "      <td>A Man &amp; a Woman: Twenty Years Later</td>\n",
       "      <td>Drama</td>\n",
       "      <td>Lelouch, Claude</td>\n",
       "      <td>49.0</td>\n",
       "      <td>No</td>\n",
       "      <td>Trintignant, Jean-Louis,Aimee, Anouk</td>\n",
       "    </tr>\n",
       "    <tr>\n",
       "      <td>14</td>\n",
       "      <td>1966</td>\n",
       "      <td>103.0</td>\n",
       "      <td>Un Hombre y una Mujer</td>\n",
       "      <td>Drama</td>\n",
       "      <td>Lelouch, Claude</td>\n",
       "      <td>6.0</td>\n",
       "      <td>Yes</td>\n",
       "      <td>Trintignant, Jean-Louis,Aimee, Anouk</td>\n",
       "    </tr>\n",
       "    <tr>\n",
       "      <td>15</td>\n",
       "      <td>1985</td>\n",
       "      <td>112.0</td>\n",
       "      <td>Official Story, The</td>\n",
       "      <td>Drama</td>\n",
       "      <td>Puenzo, Luiz</td>\n",
       "      <td>39.0</td>\n",
       "      <td>Yes</td>\n",
       "      <td>Alterio, Hector,Aleandro, Norma</td>\n",
       "    </tr>\n",
       "    <tr>\n",
       "      <td>16</td>\n",
       "      <td>1976</td>\n",
       "      <td>150.0</td>\n",
       "      <td>Lindbergh Kidnapping Case, The</td>\n",
       "      <td>Drama</td>\n",
       "      <td>Kulik, Buzz</td>\n",
       "      <td>51.0</td>\n",
       "      <td>No</td>\n",
       "      <td>Hopkins, Anthony,Alexander, Denise</td>\n",
       "    </tr>\n",
       "    <tr>\n",
       "      <td>17</td>\n",
       "      <td>1929</td>\n",
       "      <td>84.0</td>\n",
       "      <td>Blackmail</td>\n",
       "      <td>Mystery</td>\n",
       "      <td>Hitchcock, Alfred</td>\n",
       "      <td>2.0</td>\n",
       "      <td>No</td>\n",
       "      <td>Longden, John,Algood, Sara</td>\n",
       "    </tr>\n",
       "    <tr>\n",
       "      <td>18</td>\n",
       "      <td>1963</td>\n",
       "      <td>109.0</td>\n",
       "      <td>Donovan's Reef</td>\n",
       "      <td>Comedy</td>\n",
       "      <td>Ford, John</td>\n",
       "      <td>62.0</td>\n",
       "      <td>No</td>\n",
       "      <td>Wayne, John,Allen, Elizabeth</td>\n",
       "    </tr>\n",
       "    <tr>\n",
       "      <td>19</td>\n",
       "      <td>1988</td>\n",
       "      <td>110.0</td>\n",
       "      <td>Tucker: The Man &amp; His Dream</td>\n",
       "      <td>Drama</td>\n",
       "      <td>Coppola, Francis Ford</td>\n",
       "      <td>68.0</td>\n",
       "      <td>No</td>\n",
       "      <td>Bridges, Jeff,Allen, Joan</td>\n",
       "    </tr>\n",
       "  </tbody>\n",
       "</table>\n",
       "</div>"
      ],
      "text/plain": [
       "    Year  Viewing time                            Name of film    Genre  \\\n",
       "0   1990         111.0                 Tie Me Up! Tie Me Down!   Comedy   \n",
       "1   1991         113.0                              High Heels   Comedy   \n",
       "2   1983         104.0                          Dead Zone, The   Horror   \n",
       "3   1979         122.0                                    Cuba   Action   \n",
       "4   1978          94.0                          Days of Heaven    Drama   \n",
       "5   1983         140.0                               Octopussy   Action   \n",
       "6   1984         101.0                            Target Eagle   Action   \n",
       "7   1989          99.0  American Angels: Baptism of Blood, The    Drama   \n",
       "8   1985         104.0                                  Subway    Drama   \n",
       "9   1990         149.0                         Camille Claudel    Drama   \n",
       "10  1982         188.0                     Fanny and Alexander    Drama   \n",
       "11  1982         117.0             Tragedy of a Ridiculous Man    Drama   \n",
       "12  1966         103.0                         A Man & a Woman    Drama   \n",
       "13  1986         112.0     A Man & a Woman: Twenty Years Later    Drama   \n",
       "14  1966         103.0                   Un Hombre y una Mujer    Drama   \n",
       "15  1985         112.0                     Official Story, The    Drama   \n",
       "16  1976         150.0          Lindbergh Kidnapping Case, The    Drama   \n",
       "17  1929          84.0                               Blackmail  Mystery   \n",
       "18  1963         109.0                          Donovan's Reef   Comedy   \n",
       "19  1988         110.0             Tucker: The Man & His Dream    Drama   \n",
       "\n",
       "                   Regisseur  Rating Awards  \\\n",
       "0           Almodуvar, Pedro    68.0     No   \n",
       "1           Almodуvar, Pedro    68.0     No   \n",
       "2          Cronenberg, David    79.0     No   \n",
       "3            Lester, Richard     6.0     No   \n",
       "4           Malick, Terrence    14.0     No   \n",
       "5                 Glen, John    68.0     No   \n",
       "6   Loma, Josй Antonio de la    14.0     No   \n",
       "7         Sebastian, Beverly    28.0     No   \n",
       "8                Besson, Luc     6.0     No   \n",
       "9             Nuytten, Bruno    32.0     No   \n",
       "10           Bergman, Ingmar    81.0    Yes   \n",
       "11      Bertolucci, Bernardo    17.0     No   \n",
       "12           Lelouch, Claude    46.0    Yes   \n",
       "13           Lelouch, Claude    49.0     No   \n",
       "14           Lelouch, Claude     6.0    Yes   \n",
       "15              Puenzo, Luiz    39.0    Yes   \n",
       "16               Kulik, Buzz    51.0     No   \n",
       "17         Hitchcock, Alfred     2.0     No   \n",
       "18                Ford, John    62.0     No   \n",
       "19     Coppola, Francis Ford    68.0     No   \n",
       "\n",
       "                                   Actors  \n",
       "0       Banderas, Antonio,Abril, Victoria  \n",
       "1            Bosй, Miguel,Abril, Victoria  \n",
       "2       Walken, Christopher,Adams, Brooke  \n",
       "3             Connery, Sean,Adams, Brooke  \n",
       "4             Gere, Richard,Adams, Brooke  \n",
       "5                Moore, Roger,Adams, Maud  \n",
       "6              Connors, Chuck,Adams, Maud  \n",
       "7          Bergen, Robert D.,Adams, Trudy  \n",
       "8   Lambert, Christopher,Adjani, Isabelle  \n",
       "9      Depardieu, Gйrard,Adjani, Isabelle  \n",
       "10    Ahlstedt, Bцrje,Adolphson, Kristina  \n",
       "11             Tognazzi, Ugo,Aimee, Anouk  \n",
       "12   Trintignant, Jean-Louis,Aimee, Anouk  \n",
       "13   Trintignant, Jean-Louis,Aimee, Anouk  \n",
       "14   Trintignant, Jean-Louis,Aimee, Anouk  \n",
       "15        Alterio, Hector,Aleandro, Norma  \n",
       "16     Hopkins, Anthony,Alexander, Denise  \n",
       "17             Longden, John,Algood, Sara  \n",
       "18           Wayne, John,Allen, Elizabeth  \n",
       "19              Bridges, Jeff,Allen, Joan  "
      ]
     },
     "execution_count": 2,
     "metadata": {},
     "output_type": "execute_result"
    }
   ],
   "source": [
    "info_film = pd.read_csv('film.txt', sep=';')\n",
    "info_film['Actors'] = info_film['Actor'].str.cat(info_film['Actress'], sep =\",\")\n",
    "del info_film['Actor']\n",
    "del info_film['Actress']\n",
    "info_film.columns = ['Year', 'Viewing time', 'Name of film', 'Genre', 'Regisseur', 'Rating', 'Awards', 'Actors']\n",
    "print(info_film.shape)\n",
    "info_film.head(20)"
   ]
  },
  {
   "cell_type": "markdown",
   "metadata": {},
   "source": [
    "Для начала построим столбчатую диаграмму распределения выхода фильмов с течением времени. Это можно сделать при помощи простой функции plot."
   ]
  },
  {
   "cell_type": "code",
   "execution_count": 74,
   "metadata": {},
   "outputs": [
    {
     "data": {
      "image/png": "[encoded data removed]",
      "text/plain": [
       "<Figure size 1080x504 with 1 Axes>"
      ]
     },
     "metadata": {
      "needs_background": "light"
     },
     "output_type": "display_data"
    }
   ],
   "source": [
    "interest = info_film[['Year','Name of film']].groupby('Year').count().reset_index()\n",
    "plt.barh(interest['Year'], interest['Name of film'])\n",
    "plt.xlabel('Count')\n",
    "plt.ylabel('Year')\n",
    "plt.title('Number of films')\n",
    "plt.grid()"
   ]
  },
  {
   "cell_type": "markdown",
   "metadata": {},
   "source": [
    "А также какие жанры фильмов собрали наибольшее количество наград."
   ]
  },
  {
   "cell_type": "code",
   "execution_count": 10,
   "metadata": {},
   "outputs": [
    {
     "data": {
      "text/plain": [
       "<matplotlib.axes._subplots.AxesSubplot at 0xab2cc9ea88>"
      ]
     },
     "execution_count": 10,
     "metadata": {},
     "output_type": "execute_result"
    },
    {
     "data": {
      "image/png": "[encoded data removed]",
      "text/plain": [
       "<Figure size 1080x504 with 1 Axes>"
      ]
     },
     "metadata": {},
     "output_type": "display_data"
    }
   ],
   "source": [
    "share = info_film[['Genre','Awards']]\n",
    "shares = share[ share.Awards == 'Yes' ].groupby('Genre').count()\n",
    "shares.plot(kind='pie', y='Awards')"
   ]
  },
  {
   "cell_type": "markdown",
   "metadata": {},
   "source": [
    "Как видно на графиках, за отведённый период времени наибольший интерес у людей среди всех жанров приобрели драмы. Так как не всем может быть очевидно почему, стоит изучить эти данные более подробно. Для более быстрой и удобной визуализации корреляции сразу нескольких величин лучше использовать библиотеку seaborn.  "
   ]
  },
  {
   "cell_type": "code",
   "execution_count": 3,
   "metadata": {},
   "outputs": [],
   "source": [
    "import seaborn as sns"
   ]
  },
  {
   "cell_type": "code",
   "execution_count": 208,
   "metadata": {},
   "outputs": [
    {
     "data": {
      "text/plain": [
       "<seaborn.axisgrid.PairGrid at 0xf00843dd48>"
      ]
     },
     "execution_count": 208,
     "metadata": {},
     "output_type": "execute_result"
    },
    {
     "data": {
      "image/png": "[encoded data removed]",
      "text/plain": [
       "<Figure size 540x540 with 12 Axes>"
      ]
     },
     "metadata": {
      "needs_background": "light"
     },
     "output_type": "display_data"
    }
   ],
   "source": [
    "sns_plot = sns.pairplot(\n",
    "    info_film[['Year', 'Viewing time', 'Rating']])\n",
    "sns_plot"
   ]
  },
  {
   "cell_type": "markdown",
   "metadata": {},
   "source": [
    "Эта библиотека также позволяет более подробно изучать признаки различных данных. Например, как изменится длительность просмотра фильмов с течением времени."
   ]
  },
  {
   "cell_type": "code",
   "execution_count": 90,
   "metadata": {},
   "outputs": [
    {
     "data": {
      "text/plain": [
       "<seaborn.axisgrid.JointGrid at 0xab3a99afc8>"
      ]
     },
     "execution_count": 90,
     "metadata": {},
     "output_type": "execute_result"
    },
    {
     "data": {
      "image/png": "[encoded data removed]",
      "text/plain": [
       "<Figure size 432x432 with 3 Axes>"
      ]
     },
     "metadata": {
      "needs_background": "light"
     },
     "output_type": "display_data"
    }
   ],
   "source": [
    "sns.jointplot(x='Year', y='Viewing time', \n",
    "              data=info_film, kind='reg')"
   ]
  },
  {
   "cell_type": "markdown",
   "metadata": {},
   "source": [
    "Сравним оценки фильмов в зависимости от их жанра при помощи boxplot. Сделаем это с помощью библиотеки plotly, так как она позволяет построить наиболее понятные ящики для глаза и посмотреть точное численное значение. "
   ]
  },
  {
   "cell_type": "code",
   "execution_count": 4,
   "metadata": {},
   "outputs": [
    {
     "data": {
      "text/html": [
       "        <script type=\"text/javascript\">\n",
       "        window.PlotlyConfig = {MathJaxConfig: 'local'};\n",
       "        if (window.MathJax) {MathJax.Hub.Config({SVG: {font: \"STIX-Web\"}});}\n",
       "        if (typeof require !== 'undefined') {\n",
       "        require.undef(\"plotly\");\n",
       "        requirejs.config({\n",
       "            paths: {\n",
       "                'plotly': ['https://cdn.plot.ly/plotly-latest.min']\n",
       "            }\n",
       "        });\n",
       "        require(['plotly'], function(Plotly) {\n",
       "            window._Plotly = Plotly;\n",
       "        });\n",
       "        }\n",
       "        </script>\n",
       "        "
      ]
     },
     "metadata": {},
     "output_type": "display_data"
    }
   ],
   "source": [
    "from plotly.offline import init_notebook_mode, iplot\n",
    "import plotly\n",
    "\n",
    "import plotly.graph_objs as go\n",
    "init_notebook_mode(connected=True)"
   ]
  },
  {
   "cell_type": "code",
   "execution_count": 198,
   "metadata": {},
   "outputs": [
    {
     "data": {
      "text/html": [
       "<div>\n",
       "<style scoped>\n",
       "    .dataframe tbody tr th:only-of-type {\n",
       "        vertical-align: middle;\n",
       "    }\n",
       "\n",
       "    .dataframe tbody tr th {\n",
       "        vertical-align: top;\n",
       "    }\n",
       "\n",
       "    .dataframe thead th {\n",
       "        text-align: right;\n",
       "    }\n",
       "</style>\n",
       "<table border=\"1\" class=\"dataframe\">\n",
       "  <thead>\n",
       "    <tr style=\"text-align: right;\">\n",
       "      <th></th>\n",
       "      <th>Genre</th>\n",
       "      <th>Rating</th>\n",
       "    </tr>\n",
       "  </thead>\n",
       "  <tbody>\n",
       "    <tr>\n",
       "      <td>0</td>\n",
       "      <td>Comedy</td>\n",
       "      <td>68.0</td>\n",
       "    </tr>\n",
       "    <tr>\n",
       "      <td>1</td>\n",
       "      <td>Comedy</td>\n",
       "      <td>68.0</td>\n",
       "    </tr>\n",
       "    <tr>\n",
       "      <td>2</td>\n",
       "      <td>Horror</td>\n",
       "      <td>79.0</td>\n",
       "    </tr>\n",
       "    <tr>\n",
       "      <td>3</td>\n",
       "      <td>Action</td>\n",
       "      <td>6.0</td>\n",
       "    </tr>\n",
       "    <tr>\n",
       "      <td>4</td>\n",
       "      <td>Drama</td>\n",
       "      <td>14.0</td>\n",
       "    </tr>\n",
       "  </tbody>\n",
       "</table>\n",
       "</div>"
      ],
      "text/plain": [
       "    Genre  Rating\n",
       "0  Comedy    68.0\n",
       "1  Comedy    68.0\n",
       "2  Horror    79.0\n",
       "3  Action     6.0\n",
       "4   Drama    14.0"
      ]
     },
     "execution_count": 198,
     "metadata": {},
     "output_type": "execute_result"
    }
   ],
   "source": [
    "rate = info_film[['Genre','Rating']]\n",
    "rate.head()"
   ]
  },
  {
   "cell_type": "code",
   "execution_count": 199,
   "metadata": {},
   "outputs": [
    {
     "data": {
      "application/vnd.plotly.v1+json": {
       "config": {
        "linkText": "Export to plot.ly",
        "plotlyServerURL": "https://plot.ly",
        "showLink": false
       },
       "data": [
        {
         "name": "Comedy",
         "type": "box",
         "y": [
          68,
          68,
          62,
          15,
          11,
          60,
          67,
          88,
          67,
          53,
          52,
          81,
          41,
          83,
          25,
          37,
          16,
          71,
          34,
          70,
          83,
          47,
          7,
          84,
          49,
          55,
          18,
          79,
          83,
          72,
          67,
          16,
          31,
          20,
          66,
          13,
          83,
          62,
          67,
          66,
          82,
          18,
          28,
          75,
          40,
          61,
          65,
          23,
          32,
          22,
          85,
          6,
          8,
          16,
          69,
          66,
          12,
          0,
          74,
          20,
          37,
          51,
          49,
          4,
          82,
          3,
          7,
          48,
          81,
          22,
          24,
          28,
          12,
          12,
          72,
          78,
          82,
          39,
          48,
          10,
          5,
          34,
          41,
          60,
          80,
          20,
          14,
          80,
          8,
          80,
          28,
          84,
          42,
          79,
          34,
          62,
          30,
          33,
          45,
          40,
          8,
          88,
          24,
          75,
          44,
          69,
          74,
          25,
          2,
          59,
          61,
          58,
          53,
          66,
          86,
          41,
          46,
          74,
          6,
          14,
          22,
          53,
          49,
          61,
          84,
          3,
          48,
          51,
          62,
          25,
          66,
          12,
          50,
          71,
          70,
          5,
          42,
          23,
          68,
          8,
          60,
          6,
          17,
          79,
          76,
          58,
          88,
          6,
          3,
          10,
          7,
          43,
          3,
          34,
          42,
          19,
          42,
          68,
          82,
          84,
          6,
          81,
          84,
          59,
          40,
          69,
          49,
          21,
          73,
          8,
          14,
          66,
          23,
          79,
          4,
          60,
          28,
          78,
          86,
          63,
          3,
          4,
          73,
          55,
          2,
          25,
          31,
          36,
          86,
          63,
          78,
          6,
          68,
          34,
          65,
          66,
          18,
          71,
          2,
          51,
          18,
          17,
          35,
          34,
          8,
          17,
          79,
          29,
          65,
          27,
          25,
          61,
          51,
          10,
          35,
          33,
          25,
          37,
          47,
          8,
          53,
          36,
          21,
          47,
          27,
          12,
          22,
          12,
          8,
          62,
          0,
          80,
          42,
          83,
          46,
          8,
          9,
          23,
          67,
          6,
          29,
          59,
          6,
          28,
          88,
          11,
          73,
          43,
          59,
          28,
          24,
          75,
          24,
          17,
          41,
          60,
          79,
          12,
          9,
          46,
          30,
          27,
          88,
          4,
          54,
          86,
          70,
          11,
          84,
          5,
          30,
          11,
          29,
          51,
          10,
          8,
          13,
          75,
          57,
          43,
          54,
          21,
          74,
          76,
          44,
          9,
          41,
          25,
          68,
          56,
          56,
          10,
          65,
          64,
          71,
          64,
          50,
          67,
          3,
          62,
          64,
          43,
          39,
          40,
          47,
          39,
          84,
          88,
          68,
          12,
          6,
          10,
          32,
          38,
          83,
          4,
          24,
          47,
          16,
          29,
          40,
          8,
          54,
          6,
          36,
          54,
          81,
          41,
          49,
          11,
          33,
          6,
          37,
          16,
          28,
          44,
          28,
          52,
          68,
          51,
          11,
          50,
          25,
          70,
          12,
          71,
          52,
          63,
          69,
          6,
          19,
          47,
          54,
          51,
          4,
          24,
          79,
          63,
          82,
          86,
          22,
          6,
          5,
          65,
          67,
          65,
          81,
          3,
          34,
          24,
          56,
          6,
          28,
          14,
          44,
          45,
          80,
          72,
          23,
          75,
          77,
          7,
          44,
          18,
          4
         ]
        },
        {
         "name": "Horror",
         "type": "box",
         "y": [
          79,
          88,
          69,
          37,
          39,
          70,
          48,
          35,
          29,
          72,
          28,
          33,
          54,
          34,
          31,
          27,
          33,
          16,
          32,
          51,
          62,
          40,
          24,
          36,
          9,
          61,
          69,
          55,
          56,
          31,
          83,
          44,
          41,
          50,
          32,
          47,
          59,
          79,
          40,
          33,
          85,
          67,
          24,
          62,
          8,
          88,
          85,
          21,
          88,
          2,
          29,
          24,
          75,
          0,
          3,
          56,
          79
         ]
        },
        {
         "name": "Action",
         "type": "box",
         "y": [
          6,
          68,
          14,
          8,
          79,
          52,
          7,
          28,
          11,
          55,
          8,
          27,
          61,
          40,
          54,
          9,
          14,
          40,
          8,
          0,
          68,
          2,
          71,
          45,
          54,
          77,
          86,
          6,
          48,
          13,
          73,
          50,
          15,
          87,
          32,
          57,
          4,
          16,
          24,
          83,
          87,
          5,
          10,
          3,
          41,
          45,
          8,
          2,
          52,
          31,
          6,
          56,
          8,
          17,
          20,
          1,
          51,
          9,
          6,
          19,
          10,
          51,
          47,
          44,
          43,
          14,
          51,
          71,
          11,
          69,
          87,
          77,
          3,
          29,
          25,
          15,
          44,
          65,
          49,
          43,
          21,
          18,
          34,
          9,
          84,
          53,
          52,
          1,
          75,
          17,
          73,
          33,
          8,
          0,
          27,
          69,
          8,
          80,
          9,
          77,
          25,
          73,
          61,
          87,
          78,
          57,
          40,
          68,
          67,
          10,
          0,
          87,
          59,
          45,
          74,
          66,
          4,
          53,
          22,
          35,
          5,
          26,
          4,
          65,
          1,
          62,
          38,
          31,
          2,
          20,
          36,
          8,
          25,
          8,
          5,
          66,
          5,
          7,
          68,
          83,
          30,
          84,
          37,
          86,
          46,
          23,
          17,
          5,
          85,
          71,
          78,
          72,
          16,
          68,
          45,
          10,
          64,
          82,
          70,
          3,
          70,
          25,
          7,
          84,
          60,
          26,
          null,
          63,
          25,
          34,
          17,
          69,
          62,
          61,
          3,
          59,
          16,
          28,
          31,
          23,
          20,
          87,
          8,
          43,
          78,
          29,
          35,
          6,
          53,
          26,
          26,
          60,
          68,
          38,
          76,
          54,
          40,
          2,
          5,
          70,
          83,
          68,
          5,
          19,
          43
         ]
        },
        {
         "name": "Drama",
         "type": "box",
         "y": [
          14,
          28,
          6,
          32,
          81,
          17,
          46,
          49,
          6,
          39,
          51,
          68,
          23,
          80,
          53,
          19,
          20,
          42,
          62,
          36,
          14,
          38,
          64,
          18,
          11,
          8,
          82,
          3,
          82,
          79,
          7,
          51,
          79,
          20,
          9,
          3,
          6,
          62,
          66,
          81,
          30,
          29,
          39,
          48,
          57,
          44,
          50,
          7,
          11,
          66,
          36,
          52,
          59,
          2,
          88,
          80,
          7,
          10,
          55,
          49,
          25,
          1,
          32,
          7,
          15,
          2,
          74,
          14,
          6,
          24,
          31,
          32,
          49,
          88,
          26,
          19,
          33,
          34,
          57,
          69,
          69,
          16,
          84,
          6,
          5,
          0,
          10,
          36,
          2,
          81,
          12,
          38,
          69,
          45,
          49,
          15,
          10,
          83,
          45,
          76,
          73,
          9,
          58,
          29,
          70,
          6,
          19,
          80,
          71,
          28,
          51,
          72,
          77,
          43,
          44,
          63,
          7,
          77,
          73,
          65,
          39,
          87,
          72,
          11,
          57,
          71,
          35,
          36,
          20,
          18,
          23,
          53,
          81,
          25,
          36,
          5,
          33,
          28,
          40,
          15,
          66,
          87,
          86,
          6,
          19,
          24,
          39,
          71,
          57,
          41,
          81,
          33,
          69,
          55,
          87,
          34,
          23,
          20,
          42,
          1,
          20,
          41,
          38,
          32,
          52,
          1,
          67,
          83,
          55,
          17,
          76,
          64,
          66,
          72,
          75,
          43,
          15,
          1,
          78,
          44,
          76,
          88,
          66,
          32,
          57,
          66,
          0,
          72,
          83,
          35,
          74,
          67,
          70,
          81,
          64,
          82,
          72,
          73,
          73,
          85,
          62,
          60,
          50,
          44,
          49,
          64,
          77,
          43,
          3,
          60,
          11,
          8,
          20,
          19,
          82,
          81,
          73,
          14,
          6,
          58,
          59,
          85,
          65,
          61,
          5,
          81,
          82,
          23,
          28,
          84,
          84,
          29,
          49,
          57,
          57,
          48,
          2,
          87,
          32,
          60,
          21,
          78,
          50,
          23,
          73,
          34,
          22,
          31,
          2,
          32,
          53,
          42,
          20,
          null,
          33,
          63,
          71,
          9,
          65,
          59,
          27,
          5,
          1,
          45,
          73,
          18,
          80,
          74,
          29,
          8,
          8,
          76,
          54,
          8,
          8,
          88,
          76,
          36,
          26,
          null,
          27,
          71,
          41,
          78,
          78,
          53,
          62,
          82,
          62,
          2,
          11,
          4,
          56,
          66,
          75,
          80,
          69,
          76,
          21,
          1,
          41,
          2,
          47,
          52,
          83,
          40,
          62,
          10,
          13,
          54,
          54,
          80,
          80,
          49,
          2,
          56,
          13,
          20,
          80,
          70,
          32,
          71,
          83,
          9,
          70,
          50,
          4,
          70,
          77,
          62,
          38,
          6,
          20,
          28,
          81,
          41,
          75,
          6,
          71,
          30,
          59,
          50,
          26,
          11,
          47,
          39,
          3,
          78,
          81,
          59,
          70,
          8,
          66,
          73,
          50,
          66,
          80,
          70,
          45,
          72,
          38,
          29,
          88,
          44,
          2,
          11,
          75,
          58,
          27,
          65,
          45,
          10,
          26,
          29,
          75,
          74,
          0,
          26,
          65,
          40,
          62,
          72,
          45,
          39,
          6,
          75,
          8,
          88,
          66,
          3,
          22,
          83,
          12,
          31,
          39,
          50,
          7,
          36,
          3,
          6,
          66,
          35,
          6,
          75,
          69,
          73,
          13,
          80,
          29,
          6,
          75,
          49,
          19,
          80,
          7,
          24,
          42,
          8,
          10,
          48,
          60,
          13,
          88,
          42,
          20,
          26,
          72,
          72,
          48,
          71,
          80,
          79,
          32,
          28,
          72,
          74,
          69,
          7,
          62,
          58,
          20,
          78,
          13,
          11,
          22,
          67,
          77,
          36,
          3,
          37,
          24,
          41,
          30,
          66,
          36,
          64,
          32,
          8,
          82,
          31,
          52,
          64,
          88,
          37,
          9,
          67,
          61,
          36,
          52,
          39,
          75,
          41,
          2,
          66,
          6,
          35,
          54,
          74,
          72,
          81,
          87,
          60,
          80,
          82,
          61,
          62,
          79,
          26,
          80,
          21,
          54,
          13,
          78,
          65,
          16,
          2,
          79,
          3,
          71,
          51,
          53,
          53,
          62,
          4,
          4,
          81,
          3,
          37,
          6,
          7,
          19,
          58,
          7,
          8,
          45,
          49,
          73,
          75,
          9,
          24,
          82,
          30,
          59,
          51,
          64,
          1,
          51,
          23,
          76,
          82,
          68,
          57,
          32,
          54,
          3,
          29,
          49,
          32,
          27,
          4,
          57,
          0,
          17,
          84,
          null,
          73,
          8,
          14,
          84,
          1,
          35,
          72,
          35,
          68,
          60,
          8,
          7,
          63,
          7,
          75,
          25,
          46,
          88,
          77,
          53,
          75,
          50,
          63,
          6,
          6,
          39,
          30,
          6,
          86,
          64,
          85,
          50,
          31,
          65,
          40,
          59,
          9,
          60,
          74,
          36,
          29,
          27,
          49,
          4,
          48,
          78,
          35,
          23,
          76,
          32,
          12,
          54,
          8,
          75,
          6,
          42,
          7,
          57,
          88,
          21,
          45,
          13,
          26,
          88,
          75,
          71,
          49,
          22,
          33,
          61,
          39,
          25,
          60,
          22,
          77,
          56,
          63,
          8,
          21,
          80,
          5,
          7,
          5,
          24,
          8,
          23,
          41,
          17,
          51,
          56,
          2,
          82,
          25,
          54,
          81,
          23,
          79,
          84,
          60,
          18,
          1,
          6,
          66,
          26,
          31,
          68,
          13,
          19,
          76,
          19
         ]
        },
        {
         "name": "Mystery",
         "type": "box",
         "y": [
          2,
          88,
          35,
          85,
          19,
          61,
          68,
          76,
          75,
          8,
          71,
          74,
          69,
          31,
          42,
          88,
          17,
          1,
          50,
          14,
          86,
          74,
          68,
          15,
          61,
          15,
          60,
          7,
          64,
          8,
          6,
          26,
          80,
          10,
          8,
          11,
          23,
          55,
          16,
          0,
          27,
          77,
          5,
          45,
          66,
          82,
          69,
          25,
          1,
          35,
          7,
          24,
          36,
          27,
          15,
          69,
          6,
          48,
          28,
          25,
          50,
          28,
          9,
          88,
          77,
          5,
          58,
          5,
          17,
          6,
          23,
          20,
          86,
          74,
          41,
          42,
          42,
          47,
          33,
          16,
          70,
          39,
          54,
          72,
          69,
          34,
          12,
          50,
          52,
          43,
          63,
          45,
          6,
          55,
          9,
          71,
          48,
          6,
          40,
          55,
          54,
          70,
          65,
          3,
          29,
          86,
          3
         ]
        },
        {
         "name": "Science Fiction",
         "type": "box",
         "y": [
          31,
          70,
          8,
          64,
          63,
          20,
          14,
          62,
          47,
          33,
          44,
          4,
          27,
          8,
          62,
          7,
          88,
          6,
          11,
          6,
          41,
          42,
          45,
          7,
          83,
          75,
          82,
          59,
          60,
          83,
          74,
          18,
          8,
          83,
          49,
          22,
          79,
          30
         ]
        },
        {
         "name": "Music",
         "type": "box",
         "y": [
          59,
          5,
          13,
          67,
          48,
          10,
          11,
          71,
          8,
          55,
          74,
          54,
          24,
          65,
          32,
          75,
          77,
          63,
          3,
          60,
          23,
          64,
          54,
          20,
          59,
          67,
          46,
          30,
          61,
          60,
          85,
          13,
          67,
          38,
          31,
          46,
          82,
          65,
          48,
          49,
          52,
          12,
          38
         ]
        },
        {
         "name": "War",
         "type": "box",
         "y": [
          68,
          15,
          8,
          44,
          50,
          4,
          63,
          75,
          59,
          67,
          72,
          61,
          3,
          5,
          57,
          4,
          57,
          7,
          88,
          84,
          36,
          84,
          45,
          45,
          37,
          35,
          8,
          36,
          7,
          21,
          41,
          66,
          49,
          3
         ]
        },
        {
         "name": "Westerns",
         "type": "box",
         "y": [
          0,
          57,
          61,
          34,
          11,
          68
         ]
        },
        {
         "name": "Western",
         "type": "box",
         "y": [
          65,
          57,
          40,
          22,
          50,
          15,
          77,
          72,
          12,
          30,
          84,
          54,
          84,
          51,
          76,
          62,
          82,
          75,
          76,
          61,
          50,
          19,
          36,
          8,
          40,
          85,
          29,
          null,
          85,
          87,
          85,
          64,
          14,
          62,
          27,
          17,
          86,
          29,
          84,
          30,
          45,
          67,
          44,
          32,
          87,
          4,
          79,
          52,
          48,
          9,
          12,
          33,
          9,
          78,
          26,
          76,
          1,
          1,
          8,
          31,
          6,
          72,
          18,
          61,
          31,
          26,
          26,
          27,
          27,
          72,
          47,
          50,
          29,
          58,
          83,
          33,
          79,
          80,
          43,
          53,
          21,
          66,
          62,
          52,
          17,
          40,
          9,
          54,
          45,
          25,
          26,
          54,
          26,
          1,
          47,
          1,
          44,
          70,
          73,
          23,
          7,
          58,
          3,
          24,
          28,
          87,
          22,
          78,
          8,
          35,
          3,
          48,
          73,
          28,
          75,
          77,
          16,
          30,
          23
         ]
        },
        {
         "name": "nan",
         "type": "box",
         "y": []
        },
        {
         "name": "Short",
         "type": "box",
         "y": [
          62
         ]
        },
        {
         "name": "Adventure",
         "type": "box",
         "y": [
          66,
          81,
          68,
          39
         ]
        },
        {
         "name": "Crime",
         "type": "box",
         "y": [
          66
         ]
        },
        {
         "name": "Romance",
         "type": "box",
         "y": [
          62
         ]
        },
        {
         "name": "Fantasy",
         "type": "box",
         "y": [
          57
         ]
        }
       ],
       "layout": {
        "template": {
         "data": {
          "bar": [
           {
            "error_x": {
             "color": "#2a3f5f"
            },
            "error_y": {
             "color": "#2a3f5f"
            },
            "marker": {
             "line": {
              "color": "#E5ECF6",
              "width": 0.5
             }
            },
            "type": "bar"
           }
          ],
          "barpolar": [
           {
            "marker": {
             "line": {
              "color": "#E5ECF6",
              "width": 0.5
             }
            },
            "type": "barpolar"
           }
          ],
          "carpet": [
           {
            "aaxis": {
             "endlinecolor": "#2a3f5f",
             "gridcolor": "white",
             "linecolor": "white",
             "minorgridcolor": "white",
             "startlinecolor": "#2a3f5f"
            },
            "baxis": {
             "endlinecolor": "#2a3f5f",
             "gridcolor": "white",
             "linecolor": "white",
             "minorgridcolor": "white",
             "startlinecolor": "#2a3f5f"
            },
            "type": "carpet"
           }
          ],
          "choropleth": [
           {
            "colorbar": {
             "outlinewidth": 0,
             "ticks": ""
            },
            "type": "choropleth"
           }
          ],
          "contour": [
           {
            "colorbar": {
             "outlinewidth": 0,
             "ticks": ""
            },
            "colorscale": [
             [
              0,
              "#0d0887"
             ],
             [
              0.1111111111111111,
              "#46039f"
             ],
             [
              0.2222222222222222,
              "#7201a8"
             ],
             [
              0.3333333333333333,
              "#9c179e"
             ],
             [
              0.4444444444444444,
              "#bd3786"
             ],
             [
              0.5555555555555556,
              "#d8576b"
             ],
             [
              0.6666666666666666,
              "#ed7953"
             ],
             [
              0.7777777777777778,
              "#fb9f3a"
             ],
             [
              0.8888888888888888,
              "#fdca26"
             ],
             [
              1,
              "#f0f921"
             ]
            ],
            "type": "contour"
           }
          ],
          "contourcarpet": [
           {
            "colorbar": {
             "outlinewidth": 0,
             "ticks": ""
            },
            "type": "contourcarpet"
           }
          ],
          "heatmap": [
           {
            "colorbar": {
             "outlinewidth": 0,
             "ticks": ""
            },
            "colorscale": [
             [
              0,
              "#0d0887"
             ],
             [
              0.1111111111111111,
              "#46039f"
             ],
             [
              0.2222222222222222,
              "#7201a8"
             ],
             [
              0.3333333333333333,
              "#9c179e"
             ],
             [
              0.4444444444444444,
              "#bd3786"
             ],
             [
              0.5555555555555556,
              "#d8576b"
             ],
             [
              0.6666666666666666,
              "#ed7953"
             ],
             [
              0.7777777777777778,
              "#fb9f3a"
             ],
             [
              0.8888888888888888,
              "#fdca26"
             ],
             [
              1,
              "#f0f921"
             ]
            ],
            "type": "heatmap"
           }
          ],
          "heatmapgl": [
           {
            "colorbar": {
             "outlinewidth": 0,
             "ticks": ""
            },
            "colorscale": [
             [
              0,
              "#0d0887"
             ],
             [
              0.1111111111111111,
              "#46039f"
             ],
             [
              0.2222222222222222,
              "#7201a8"
             ],
             [
              0.3333333333333333,
              "#9c179e"
             ],
             [
              0.4444444444444444,
              "#bd3786"
             ],
             [
              0.5555555555555556,
              "#d8576b"
             ],
             [
              0.6666666666666666,
              "#ed7953"
             ],
             [
              0.7777777777777778,
              "#fb9f3a"
             ],
             [
              0.8888888888888888,
              "#fdca26"
             ],
             [
              1,
              "#f0f921"
             ]
            ],
            "type": "heatmapgl"
           }
          ],
          "histogram": [
           {
            "marker": {
             "colorbar": {
              "outlinewidth": 0,
              "ticks": ""
             }
            },
            "type": "histogram"
           }
          ],
          "histogram2d": [
           {
            "colorbar": {
             "outlinewidth": 0,
             "ticks": ""
            },
            "colorscale": [
             [
              0,
              "#0d0887"
             ],
             [
              0.1111111111111111,
              "#46039f"
             ],
             [
              0.2222222222222222,
              "#7201a8"
             ],
             [
              0.3333333333333333,
              "#9c179e"
             ],
             [
              0.4444444444444444,
              "#bd3786"
             ],
             [
              0.5555555555555556,
              "#d8576b"
             ],
             [
              0.6666666666666666,
              "#ed7953"
             ],
             [
              0.7777777777777778,
              "#fb9f3a"
             ],
             [
              0.8888888888888888,
              "#fdca26"
             ],
             [
              1,
              "#f0f921"
             ]
            ],
            "type": "histogram2d"
           }
          ],
          "histogram2dcontour": [
           {
            "colorbar": {
             "outlinewidth": 0,
             "ticks": ""
            },
            "colorscale": [
             [
              0,
              "#0d0887"
             ],
             [
              0.1111111111111111,
              "#46039f"
             ],
             [
              0.2222222222222222,
              "#7201a8"
             ],
             [
              0.3333333333333333,
              "#9c179e"
             ],
             [
              0.4444444444444444,
              "#bd3786"
             ],
             [
              0.5555555555555556,
              "#d8576b"
             ],
             [
              0.6666666666666666,
              "#ed7953"
             ],
             [
              0.7777777777777778,
              "#fb9f3a"
             ],
             [
              0.8888888888888888,
              "#fdca26"
             ],
             [
              1,
              "#f0f921"
             ]
            ],
            "type": "histogram2dcontour"
           }
          ],
          "mesh3d": [
           {
            "colorbar": {
             "outlinewidth": 0,
             "ticks": ""
            },
            "type": "mesh3d"
           }
          ],
          "parcoords": [
           {
            "line": {
             "colorbar": {
              "outlinewidth": 0,
              "ticks": ""
             }
            },
            "type": "parcoords"
           }
          ],
          "pie": [
           {
            "automargin": true,
            "type": "pie"
           }
          ],
          "scatter": [
           {
            "marker": {
             "colorbar": {
              "outlinewidth": 0,
              "ticks": ""
             }
            },
            "type": "scatter"
           }
          ],
          "scatter3d": [
           {
            "line": {
             "colorbar": {
              "outlinewidth": 0,
              "ticks": ""
             }
            },
            "marker": {
             "colorbar": {
              "outlinewidth": 0,
              "ticks": ""
             }
            },
            "type": "scatter3d"
           }
          ],
          "scattercarpet": [
           {
            "marker": {
             "colorbar": {
              "outlinewidth": 0,
              "ticks": ""
             }
            },
            "type": "scattercarpet"
           }
          ],
          "scattergeo": [
           {
            "marker": {
             "colorbar": {
              "outlinewidth": 0,
              "ticks": ""
             }
            },
            "type": "scattergeo"
           }
          ],
          "scattergl": [
           {
            "marker": {
             "colorbar": {
              "outlinewidth": 0,
              "ticks": ""
             }
            },
            "type": "scattergl"
           }
          ],
          "scattermapbox": [
           {
            "marker": {
             "colorbar": {
              "outlinewidth": 0,
              "ticks": ""
             }
            },
            "type": "scattermapbox"
           }
          ],
          "scatterpolar": [
           {
            "marker": {
             "colorbar": {
              "outlinewidth": 0,
              "ticks": ""
             }
            },
            "type": "scatterpolar"
           }
          ],
          "scatterpolargl": [
           {
            "marker": {
             "colorbar": {
              "outlinewidth": 0,
              "ticks": ""
             }
            },
            "type": "scatterpolargl"
           }
          ],
          "scatterternary": [
           {
            "marker": {
             "colorbar": {
              "outlinewidth": 0,
              "ticks": ""
             }
            },
            "type": "scatterternary"
           }
          ],
          "surface": [
           {
            "colorbar": {
             "outlinewidth": 0,
             "ticks": ""
            },
            "colorscale": [
             [
              0,
              "#0d0887"
             ],
             [
              0.1111111111111111,
              "#46039f"
             ],
             [
              0.2222222222222222,
              "#7201a8"
             ],
             [
              0.3333333333333333,
              "#9c179e"
             ],
             [
              0.4444444444444444,
              "#bd3786"
             ],
             [
              0.5555555555555556,
              "#d8576b"
             ],
             [
              0.6666666666666666,
              "#ed7953"
             ],
             [
              0.7777777777777778,
              "#fb9f3a"
             ],
             [
              0.8888888888888888,
              "#fdca26"
             ],
             [
              1,
              "#f0f921"
             ]
            ],
            "type": "surface"
           }
          ],
          "table": [
           {
            "cells": {
             "fill": {
              "color": "#EBF0F8"
             },
             "line": {
              "color": "white"
             }
            },
            "header": {
             "fill": {
              "color": "#C8D4E3"
             },
             "line": {
              "color": "white"
             }
            },
            "type": "table"
           }
          ]
         },
         "layout": {
          "annotationdefaults": {
           "arrowcolor": "#2a3f5f",
           "arrowhead": 0,
           "arrowwidth": 1
          },
          "coloraxis": {
           "colorbar": {
            "outlinewidth": 0,
            "ticks": ""
           }
          },
          "colorscale": {
           "diverging": [
            [
             0,
             "#8e0152"
            ],
            [
             0.1,
             "#c51b7d"
            ],
            [
             0.2,
             "#de77ae"
            ],
            [
             0.3,
             "#f1b6da"
            ],
            [
             0.4,
             "#fde0ef"
            ],
            [
             0.5,
             "#f7f7f7"
            ],
            [
             0.6,
             "#e6f5d0"
            ],
            [
             0.7,
             "#b8e186"
            ],
            [
             0.8,
             "#7fbc41"
            ],
            [
             0.9,
             "#4d9221"
            ],
            [
             1,
             "#276419"
            ]
           ],
           "sequential": [
            [
             0,
             "#0d0887"
            ],
            [
             0.1111111111111111,
             "#46039f"
            ],
            [
             0.2222222222222222,
             "#7201a8"
            ],
            [
             0.3333333333333333,
             "#9c179e"
            ],
            [
             0.4444444444444444,
             "#bd3786"
            ],
            [
             0.5555555555555556,
             "#d8576b"
            ],
            [
             0.6666666666666666,
             "#ed7953"
            ],
            [
             0.7777777777777778,
             "#fb9f3a"
            ],
            [
             0.8888888888888888,
             "#fdca26"
            ],
            [
             1,
             "#f0f921"
            ]
           ],
           "sequentialminus": [
            [
             0,
             "#0d0887"
            ],
            [
             0.1111111111111111,
             "#46039f"
            ],
            [
             0.2222222222222222,
             "#7201a8"
            ],
            [
             0.3333333333333333,
             "#9c179e"
            ],
            [
             0.4444444444444444,
             "#bd3786"
            ],
            [
             0.5555555555555556,
             "#d8576b"
            ],
            [
             0.6666666666666666,
             "#ed7953"
            ],
            [
             0.7777777777777778,
             "#fb9f3a"
            ],
            [
             0.8888888888888888,
             "#fdca26"
            ],
            [
             1,
             "#f0f921"
            ]
           ]
          },
          "colorway": [
           "#636efa",
           "#EF553B",
           "#00cc96",
           "#ab63fa",
           "#FFA15A",
           "#19d3f3",
           "#FF6692",
           "#B6E880",
           "#FF97FF",
           "#FECB52"
          ],
          "font": {
           "color": "#2a3f5f"
          },
          "geo": {
           "bgcolor": "white",
           "lakecolor": "white",
           "landcolor": "#E5ECF6",
           "showlakes": true,
           "showland": true,
           "subunitcolor": "white"
          },
          "hoverlabel": {
           "align": "left"
          },
          "hovermode": "closest",
          "mapbox": {
           "style": "light"
          },
          "paper_bgcolor": "white",
          "plot_bgcolor": "#E5ECF6",
          "polar": {
           "angularaxis": {
            "gridcolor": "white",
            "linecolor": "white",
            "ticks": ""
           },
           "bgcolor": "#E5ECF6",
           "radialaxis": {
            "gridcolor": "white",
            "linecolor": "white",
            "ticks": ""
           }
          },
          "scene": {
           "xaxis": {
            "backgroundcolor": "#E5ECF6",
            "gridcolor": "white",
            "gridwidth": 2,
            "linecolor": "white",
            "showbackground": true,
            "ticks": "",
            "zerolinecolor": "white"
           },
           "yaxis": {
            "backgroundcolor": "#E5ECF6",
            "gridcolor": "white",
            "gridwidth": 2,
            "linecolor": "white",
            "showbackground": true,
            "ticks": "",
            "zerolinecolor": "white"
           },
           "zaxis": {
            "backgroundcolor": "#E5ECF6",
            "gridcolor": "white",
            "gridwidth": 2,
            "linecolor": "white",
            "showbackground": true,
            "ticks": "",
            "zerolinecolor": "white"
           }
          },
          "shapedefaults": {
           "line": {
            "color": "#2a3f5f"
           }
          },
          "ternary": {
           "aaxis": {
            "gridcolor": "white",
            "linecolor": "white",
            "ticks": ""
           },
           "baxis": {
            "gridcolor": "white",
            "linecolor": "white",
            "ticks": ""
           },
           "bgcolor": "#E5ECF6",
           "caxis": {
            "gridcolor": "white",
            "linecolor": "white",
            "ticks": ""
           }
          },
          "title": {
           "x": 0.05
          },
          "xaxis": {
           "automargin": true,
           "gridcolor": "white",
           "linecolor": "white",
           "ticks": "",
           "title": {
            "standoff": 15
           },
           "zerolinecolor": "white",
           "zerolinewidth": 2
          },
          "yaxis": {
           "automargin": true,
           "gridcolor": "white",
           "linecolor": "white",
           "ticks": "",
           "title": {
            "standoff": 15
           },
           "zerolinecolor": "white",
           "zerolinewidth": 2
          }
         }
        }
       }
      },
      "text/html": [
       "<div>\n",
       "        \n",
       "        \n",
       "            <div id=\"d3d8b9a3-efb5-439a-9ffc-db2db07ab793\" class=\"plotly-graph-div\" style=\"height:525px; width:100%;\"></div>\n",
       "            <script type=\"text/javascript\">\n",
       "                require([\"plotly\"], function(Plotly) {\n",
       "                    window.PLOTLYENV=window.PLOTLYENV || {};\n",
       "                    \n",
       "                if (document.getElementById(\"d3d8b9a3-efb5-439a-9ffc-db2db07ab793\")) {\n",
       "                    Plotly.newPlot(\n",
       "                        'd3d8b9a3-efb5-439a-9ffc-db2db07ab793',\n",
       "                        [{\"name\": \"Comedy\", \"type\": \"box\", \"y\": [68.0, 68.0, 62.0, 15.0, 11.0, 60.0, 67.0, 88.0, 67.0, 53.0, 52.0, 81.0, 41.0, 83.0, 25.0, 37.0, 16.0, 71.0, 34.0, 70.0, 83.0, 47.0, 7.0, 84.0, 49.0, 55.0, 18.0, 79.0, 83.0, 72.0, 67.0, 16.0, 31.0, 20.0, 66.0, 13.0, 83.0, 62.0, 67.0, 66.0, 82.0, 18.0, 28.0, 75.0, 40.0, 61.0, 65.0, 23.0, 32.0, 22.0, 85.0, 6.0, 8.0, 16.0, 69.0, 66.0, 12.0, 0.0, 74.0, 20.0, 37.0, 51.0, 49.0, 4.0, 82.0, 3.0, 7.0, 48.0, 81.0, 22.0, 24.0, 28.0, 12.0, 12.0, 72.0, 78.0, 82.0, 39.0, 48.0, 10.0, 5.0, 34.0, 41.0, 60.0, 80.0, 20.0, 14.0, 80.0, 8.0, 80.0, 28.0, 84.0, 42.0, 79.0, 34.0, 62.0, 30.0, 33.0, 45.0, 40.0, 8.0, 88.0, 24.0, 75.0, 44.0, 69.0, 74.0, 25.0, 2.0, 59.0, 61.0, 58.0, 53.0, 66.0, 86.0, 41.0, 46.0, 74.0, 6.0, 14.0, 22.0, 53.0, 49.0, 61.0, 84.0, 3.0, 48.0, 51.0, 62.0, 25.0, 66.0, 12.0, 50.0, 71.0, 70.0, 5.0, 42.0, 23.0, 68.0, 8.0, 60.0, 6.0, 17.0, 79.0, 76.0, 58.0, 88.0, 6.0, 3.0, 10.0, 7.0, 43.0, 3.0, 34.0, 42.0, 19.0, 42.0, 68.0, 82.0, 84.0, 6.0, 81.0, 84.0, 59.0, 40.0, 69.0, 49.0, 21.0, 73.0, 8.0, 14.0, 66.0, 23.0, 79.0, 4.0, 60.0, 28.0, 78.0, 86.0, 63.0, 3.0, 4.0, 73.0, 55.0, 2.0, 25.0, 31.0, 36.0, 86.0, 63.0, 78.0, 6.0, 68.0, 34.0, 65.0, 66.0, 18.0, 71.0, 2.0, 51.0, 18.0, 17.0, 35.0, 34.0, 8.0, 17.0, 79.0, 29.0, 65.0, 27.0, 25.0, 61.0, 51.0, 10.0, 35.0, 33.0, 25.0, 37.0, 47.0, 8.0, 53.0, 36.0, 21.0, 47.0, 27.0, 12.0, 22.0, 12.0, 8.0, 62.0, 0.0, 80.0, 42.0, 83.0, 46.0, 8.0, 9.0, 23.0, 67.0, 6.0, 29.0, 59.0, 6.0, 28.0, 88.0, 11.0, 73.0, 43.0, 59.0, 28.0, 24.0, 75.0, 24.0, 17.0, 41.0, 60.0, 79.0, 12.0, 9.0, 46.0, 30.0, 27.0, 88.0, 4.0, 54.0, 86.0, 70.0, 11.0, 84.0, 5.0, 30.0, 11.0, 29.0, 51.0, 10.0, 8.0, 13.0, 75.0, 57.0, 43.0, 54.0, 21.0, 74.0, 76.0, 44.0, 9.0, 41.0, 25.0, 68.0, 56.0, 56.0, 10.0, 65.0, 64.0, 71.0, 64.0, 50.0, 67.0, 3.0, 62.0, 64.0, 43.0, 39.0, 40.0, 47.0, 39.0, 84.0, 88.0, 68.0, 12.0, 6.0, 10.0, 32.0, 38.0, 83.0, 4.0, 24.0, 47.0, 16.0, 29.0, 40.0, 8.0, 54.0, 6.0, 36.0, 54.0, 81.0, 41.0, 49.0, 11.0, 33.0, 6.0, 37.0, 16.0, 28.0, 44.0, 28.0, 52.0, 68.0, 51.0, 11.0, 50.0, 25.0, 70.0, 12.0, 71.0, 52.0, 63.0, 69.0, 6.0, 19.0, 47.0, 54.0, 51.0, 4.0, 24.0, 79.0, 63.0, 82.0, 86.0, 22.0, 6.0, 5.0, 65.0, 67.0, 65.0, 81.0, 3.0, 34.0, 24.0, 56.0, 6.0, 28.0, 14.0, 44.0, 45.0, 80.0, 72.0, 23.0, 75.0, 77.0, 7.0, 44.0, 18.0, 4.0]}, {\"name\": \"Horror\", \"type\": \"box\", \"y\": [79.0, 88.0, 69.0, 37.0, 39.0, 70.0, 48.0, 35.0, 29.0, 72.0, 28.0, 33.0, 54.0, 34.0, 31.0, 27.0, 33.0, 16.0, 32.0, 51.0, 62.0, 40.0, 24.0, 36.0, 9.0, 61.0, 69.0, 55.0, 56.0, 31.0, 83.0, 44.0, 41.0, 50.0, 32.0, 47.0, 59.0, 79.0, 40.0, 33.0, 85.0, 67.0, 24.0, 62.0, 8.0, 88.0, 85.0, 21.0, 88.0, 2.0, 29.0, 24.0, 75.0, 0.0, 3.0, 56.0, 79.0]}, {\"name\": \"Action\", \"type\": \"box\", \"y\": [6.0, 68.0, 14.0, 8.0, 79.0, 52.0, 7.0, 28.0, 11.0, 55.0, 8.0, 27.0, 61.0, 40.0, 54.0, 9.0, 14.0, 40.0, 8.0, 0.0, 68.0, 2.0, 71.0, 45.0, 54.0, 77.0, 86.0, 6.0, 48.0, 13.0, 73.0, 50.0, 15.0, 87.0, 32.0, 57.0, 4.0, 16.0, 24.0, 83.0, 87.0, 5.0, 10.0, 3.0, 41.0, 45.0, 8.0, 2.0, 52.0, 31.0, 6.0, 56.0, 8.0, 17.0, 20.0, 1.0, 51.0, 9.0, 6.0, 19.0, 10.0, 51.0, 47.0, 44.0, 43.0, 14.0, 51.0, 71.0, 11.0, 69.0, 87.0, 77.0, 3.0, 29.0, 25.0, 15.0, 44.0, 65.0, 49.0, 43.0, 21.0, 18.0, 34.0, 9.0, 84.0, 53.0, 52.0, 1.0, 75.0, 17.0, 73.0, 33.0, 8.0, 0.0, 27.0, 69.0, 8.0, 80.0, 9.0, 77.0, 25.0, 73.0, 61.0, 87.0, 78.0, 57.0, 40.0, 68.0, 67.0, 10.0, 0.0, 87.0, 59.0, 45.0, 74.0, 66.0, 4.0, 53.0, 22.0, 35.0, 5.0, 26.0, 4.0, 65.0, 1.0, 62.0, 38.0, 31.0, 2.0, 20.0, 36.0, 8.0, 25.0, 8.0, 5.0, 66.0, 5.0, 7.0, 68.0, 83.0, 30.0, 84.0, 37.0, 86.0, 46.0, 23.0, 17.0, 5.0, 85.0, 71.0, 78.0, 72.0, 16.0, 68.0, 45.0, 10.0, 64.0, 82.0, 70.0, 3.0, 70.0, 25.0, 7.0, 84.0, 60.0, 26.0, null, 63.0, 25.0, 34.0, 17.0, 69.0, 62.0, 61.0, 3.0, 59.0, 16.0, 28.0, 31.0, 23.0, 20.0, 87.0, 8.0, 43.0, 78.0, 29.0, 35.0, 6.0, 53.0, 26.0, 26.0, 60.0, 68.0, 38.0, 76.0, 54.0, 40.0, 2.0, 5.0, 70.0, 83.0, 68.0, 5.0, 19.0, 43.0]}, {\"name\": \"Drama\", \"type\": \"box\", \"y\": [14.0, 28.0, 6.0, 32.0, 81.0, 17.0, 46.0, 49.0, 6.0, 39.0, 51.0, 68.0, 23.0, 80.0, 53.0, 19.0, 20.0, 42.0, 62.0, 36.0, 14.0, 38.0, 64.0, 18.0, 11.0, 8.0, 82.0, 3.0, 82.0, 79.0, 7.0, 51.0, 79.0, 20.0, 9.0, 3.0, 6.0, 62.0, 66.0, 81.0, 30.0, 29.0, 39.0, 48.0, 57.0, 44.0, 50.0, 7.0, 11.0, 66.0, 36.0, 52.0, 59.0, 2.0, 88.0, 80.0, 7.0, 10.0, 55.0, 49.0, 25.0, 1.0, 32.0, 7.0, 15.0, 2.0, 74.0, 14.0, 6.0, 24.0, 31.0, 32.0, 49.0, 88.0, 26.0, 19.0, 33.0, 34.0, 57.0, 69.0, 69.0, 16.0, 84.0, 6.0, 5.0, 0.0, 10.0, 36.0, 2.0, 81.0, 12.0, 38.0, 69.0, 45.0, 49.0, 15.0, 10.0, 83.0, 45.0, 76.0, 73.0, 9.0, 58.0, 29.0, 70.0, 6.0, 19.0, 80.0, 71.0, 28.0, 51.0, 72.0, 77.0, 43.0, 44.0, 63.0, 7.0, 77.0, 73.0, 65.0, 39.0, 87.0, 72.0, 11.0, 57.0, 71.0, 35.0, 36.0, 20.0, 18.0, 23.0, 53.0, 81.0, 25.0, 36.0, 5.0, 33.0, 28.0, 40.0, 15.0, 66.0, 87.0, 86.0, 6.0, 19.0, 24.0, 39.0, 71.0, 57.0, 41.0, 81.0, 33.0, 69.0, 55.0, 87.0, 34.0, 23.0, 20.0, 42.0, 1.0, 20.0, 41.0, 38.0, 32.0, 52.0, 1.0, 67.0, 83.0, 55.0, 17.0, 76.0, 64.0, 66.0, 72.0, 75.0, 43.0, 15.0, 1.0, 78.0, 44.0, 76.0, 88.0, 66.0, 32.0, 57.0, 66.0, 0.0, 72.0, 83.0, 35.0, 74.0, 67.0, 70.0, 81.0, 64.0, 82.0, 72.0, 73.0, 73.0, 85.0, 62.0, 60.0, 50.0, 44.0, 49.0, 64.0, 77.0, 43.0, 3.0, 60.0, 11.0, 8.0, 20.0, 19.0, 82.0, 81.0, 73.0, 14.0, 6.0, 58.0, 59.0, 85.0, 65.0, 61.0, 5.0, 81.0, 82.0, 23.0, 28.0, 84.0, 84.0, 29.0, 49.0, 57.0, 57.0, 48.0, 2.0, 87.0, 32.0, 60.0, 21.0, 78.0, 50.0, 23.0, 73.0, 34.0, 22.0, 31.0, 2.0, 32.0, 53.0, 42.0, 20.0, null, 33.0, 63.0, 71.0, 9.0, 65.0, 59.0, 27.0, 5.0, 1.0, 45.0, 73.0, 18.0, 80.0, 74.0, 29.0, 8.0, 8.0, 76.0, 54.0, 8.0, 8.0, 88.0, 76.0, 36.0, 26.0, null, 27.0, 71.0, 41.0, 78.0, 78.0, 53.0, 62.0, 82.0, 62.0, 2.0, 11.0, 4.0, 56.0, 66.0, 75.0, 80.0, 69.0, 76.0, 21.0, 1.0, 41.0, 2.0, 47.0, 52.0, 83.0, 40.0, 62.0, 10.0, 13.0, 54.0, 54.0, 80.0, 80.0, 49.0, 2.0, 56.0, 13.0, 20.0, 80.0, 70.0, 32.0, 71.0, 83.0, 9.0, 70.0, 50.0, 4.0, 70.0, 77.0, 62.0, 38.0, 6.0, 20.0, 28.0, 81.0, 41.0, 75.0, 6.0, 71.0, 30.0, 59.0, 50.0, 26.0, 11.0, 47.0, 39.0, 3.0, 78.0, 81.0, 59.0, 70.0, 8.0, 66.0, 73.0, 50.0, 66.0, 80.0, 70.0, 45.0, 72.0, 38.0, 29.0, 88.0, 44.0, 2.0, 11.0, 75.0, 58.0, 27.0, 65.0, 45.0, 10.0, 26.0, 29.0, 75.0, 74.0, 0.0, 26.0, 65.0, 40.0, 62.0, 72.0, 45.0, 39.0, 6.0, 75.0, 8.0, 88.0, 66.0, 3.0, 22.0, 83.0, 12.0, 31.0, 39.0, 50.0, 7.0, 36.0, 3.0, 6.0, 66.0, 35.0, 6.0, 75.0, 69.0, 73.0, 13.0, 80.0, 29.0, 6.0, 75.0, 49.0, 19.0, 80.0, 7.0, 24.0, 42.0, 8.0, 10.0, 48.0, 60.0, 13.0, 88.0, 42.0, 20.0, 26.0, 72.0, 72.0, 48.0, 71.0, 80.0, 79.0, 32.0, 28.0, 72.0, 74.0, 69.0, 7.0, 62.0, 58.0, 20.0, 78.0, 13.0, 11.0, 22.0, 67.0, 77.0, 36.0, 3.0, 37.0, 24.0, 41.0, 30.0, 66.0, 36.0, 64.0, 32.0, 8.0, 82.0, 31.0, 52.0, 64.0, 88.0, 37.0, 9.0, 67.0, 61.0, 36.0, 52.0, 39.0, 75.0, 41.0, 2.0, 66.0, 6.0, 35.0, 54.0, 74.0, 72.0, 81.0, 87.0, 60.0, 80.0, 82.0, 61.0, 62.0, 79.0, 26.0, 80.0, 21.0, 54.0, 13.0, 78.0, 65.0, 16.0, 2.0, 79.0, 3.0, 71.0, 51.0, 53.0, 53.0, 62.0, 4.0, 4.0, 81.0, 3.0, 37.0, 6.0, 7.0, 19.0, 58.0, 7.0, 8.0, 45.0, 49.0, 73.0, 75.0, 9.0, 24.0, 82.0, 30.0, 59.0, 51.0, 64.0, 1.0, 51.0, 23.0, 76.0, 82.0, 68.0, 57.0, 32.0, 54.0, 3.0, 29.0, 49.0, 32.0, 27.0, 4.0, 57.0, 0.0, 17.0, 84.0, null, 73.0, 8.0, 14.0, 84.0, 1.0, 35.0, 72.0, 35.0, 68.0, 60.0, 8.0, 7.0, 63.0, 7.0, 75.0, 25.0, 46.0, 88.0, 77.0, 53.0, 75.0, 50.0, 63.0, 6.0, 6.0, 39.0, 30.0, 6.0, 86.0, 64.0, 85.0, 50.0, 31.0, 65.0, 40.0, 59.0, 9.0, 60.0, 74.0, 36.0, 29.0, 27.0, 49.0, 4.0, 48.0, 78.0, 35.0, 23.0, 76.0, 32.0, 12.0, 54.0, 8.0, 75.0, 6.0, 42.0, 7.0, 57.0, 88.0, 21.0, 45.0, 13.0, 26.0, 88.0, 75.0, 71.0, 49.0, 22.0, 33.0, 61.0, 39.0, 25.0, 60.0, 22.0, 77.0, 56.0, 63.0, 8.0, 21.0, 80.0, 5.0, 7.0, 5.0, 24.0, 8.0, 23.0, 41.0, 17.0, 51.0, 56.0, 2.0, 82.0, 25.0, 54.0, 81.0, 23.0, 79.0, 84.0, 60.0, 18.0, 1.0, 6.0, 66.0, 26.0, 31.0, 68.0, 13.0, 19.0, 76.0, 19.0]}, {\"name\": \"Mystery\", \"type\": \"box\", \"y\": [2.0, 88.0, 35.0, 85.0, 19.0, 61.0, 68.0, 76.0, 75.0, 8.0, 71.0, 74.0, 69.0, 31.0, 42.0, 88.0, 17.0, 1.0, 50.0, 14.0, 86.0, 74.0, 68.0, 15.0, 61.0, 15.0, 60.0, 7.0, 64.0, 8.0, 6.0, 26.0, 80.0, 10.0, 8.0, 11.0, 23.0, 55.0, 16.0, 0.0, 27.0, 77.0, 5.0, 45.0, 66.0, 82.0, 69.0, 25.0, 1.0, 35.0, 7.0, 24.0, 36.0, 27.0, 15.0, 69.0, 6.0, 48.0, 28.0, 25.0, 50.0, 28.0, 9.0, 88.0, 77.0, 5.0, 58.0, 5.0, 17.0, 6.0, 23.0, 20.0, 86.0, 74.0, 41.0, 42.0, 42.0, 47.0, 33.0, 16.0, 70.0, 39.0, 54.0, 72.0, 69.0, 34.0, 12.0, 50.0, 52.0, 43.0, 63.0, 45.0, 6.0, 55.0, 9.0, 71.0, 48.0, 6.0, 40.0, 55.0, 54.0, 70.0, 65.0, 3.0, 29.0, 86.0, 3.0]}, {\"name\": \"Science Fiction\", \"type\": \"box\", \"y\": [31.0, 70.0, 8.0, 64.0, 63.0, 20.0, 14.0, 62.0, 47.0, 33.0, 44.0, 4.0, 27.0, 8.0, 62.0, 7.0, 88.0, 6.0, 11.0, 6.0, 41.0, 42.0, 45.0, 7.0, 83.0, 75.0, 82.0, 59.0, 60.0, 83.0, 74.0, 18.0, 8.0, 83.0, 49.0, 22.0, 79.0, 30.0]}, {\"name\": \"Music\", \"type\": \"box\", \"y\": [59.0, 5.0, 13.0, 67.0, 48.0, 10.0, 11.0, 71.0, 8.0, 55.0, 74.0, 54.0, 24.0, 65.0, 32.0, 75.0, 77.0, 63.0, 3.0, 60.0, 23.0, 64.0, 54.0, 20.0, 59.0, 67.0, 46.0, 30.0, 61.0, 60.0, 85.0, 13.0, 67.0, 38.0, 31.0, 46.0, 82.0, 65.0, 48.0, 49.0, 52.0, 12.0, 38.0]}, {\"name\": \"War\", \"type\": \"box\", \"y\": [68.0, 15.0, 8.0, 44.0, 50.0, 4.0, 63.0, 75.0, 59.0, 67.0, 72.0, 61.0, 3.0, 5.0, 57.0, 4.0, 57.0, 7.0, 88.0, 84.0, 36.0, 84.0, 45.0, 45.0, 37.0, 35.0, 8.0, 36.0, 7.0, 21.0, 41.0, 66.0, 49.0, 3.0]}, {\"name\": \"Westerns\", \"type\": \"box\", \"y\": [0.0, 57.0, 61.0, 34.0, 11.0, 68.0]}, {\"name\": \"Western\", \"type\": \"box\", \"y\": [65.0, 57.0, 40.0, 22.0, 50.0, 15.0, 77.0, 72.0, 12.0, 30.0, 84.0, 54.0, 84.0, 51.0, 76.0, 62.0, 82.0, 75.0, 76.0, 61.0, 50.0, 19.0, 36.0, 8.0, 40.0, 85.0, 29.0, null, 85.0, 87.0, 85.0, 64.0, 14.0, 62.0, 27.0, 17.0, 86.0, 29.0, 84.0, 30.0, 45.0, 67.0, 44.0, 32.0, 87.0, 4.0, 79.0, 52.0, 48.0, 9.0, 12.0, 33.0, 9.0, 78.0, 26.0, 76.0, 1.0, 1.0, 8.0, 31.0, 6.0, 72.0, 18.0, 61.0, 31.0, 26.0, 26.0, 27.0, 27.0, 72.0, 47.0, 50.0, 29.0, 58.0, 83.0, 33.0, 79.0, 80.0, 43.0, 53.0, 21.0, 66.0, 62.0, 52.0, 17.0, 40.0, 9.0, 54.0, 45.0, 25.0, 26.0, 54.0, 26.0, 1.0, 47.0, 1.0, 44.0, 70.0, 73.0, 23.0, 7.0, 58.0, 3.0, 24.0, 28.0, 87.0, 22.0, 78.0, 8.0, 35.0, 3.0, 48.0, 73.0, 28.0, 75.0, 77.0, 16.0, 30.0, 23.0]}, {\"name\": \"nan\", \"type\": \"box\", \"y\": []}, {\"name\": \"Short\", \"type\": \"box\", \"y\": [62.0]}, {\"name\": \"Adventure\", \"type\": \"box\", \"y\": [66.0, 81.0, 68.0, 39.0]}, {\"name\": \"Crime\", \"type\": \"box\", \"y\": [66.0]}, {\"name\": \"Romance\", \"type\": \"box\", \"y\": [62.0]}, {\"name\": \"Fantasy\", \"type\": \"box\", \"y\": [57.0]}],\n",
       "                        {\"template\": {\"data\": {\"bar\": [{\"error_x\": {\"color\": \"#2a3f5f\"}, \"error_y\": {\"color\": \"#2a3f5f\"}, \"marker\": {\"line\": {\"color\": \"#E5ECF6\", \"width\": 0.5}}, \"type\": \"bar\"}], \"barpolar\": [{\"marker\": {\"line\": {\"color\": \"#E5ECF6\", \"width\": 0.5}}, \"type\": \"barpolar\"}], \"carpet\": [{\"aaxis\": {\"endlinecolor\": \"#2a3f5f\", \"gridcolor\": \"white\", \"linecolor\": \"white\", \"minorgridcolor\": \"white\", \"startlinecolor\": \"#2a3f5f\"}, \"baxis\": {\"endlinecolor\": \"#2a3f5f\", \"gridcolor\": \"white\", \"linecolor\": \"white\", \"minorgridcolor\": \"white\", \"startlinecolor\": \"#2a3f5f\"}, \"type\": \"carpet\"}], \"choropleth\": [{\"colorbar\": {\"outlinewidth\": 0, \"ticks\": \"\"}, \"type\": \"choropleth\"}], \"contour\": [{\"colorbar\": {\"outlinewidth\": 0, \"ticks\": \"\"}, \"colorscale\": [[0.0, \"#0d0887\"], [0.1111111111111111, \"#46039f\"], [0.2222222222222222, \"#7201a8\"], [0.3333333333333333, \"#9c179e\"], [0.4444444444444444, \"#bd3786\"], [0.5555555555555556, \"#d8576b\"], [0.6666666666666666, \"#ed7953\"], [0.7777777777777778, \"#fb9f3a\"], [0.8888888888888888, \"#fdca26\"], [1.0, \"#f0f921\"]], \"type\": \"contour\"}], \"contourcarpet\": [{\"colorbar\": {\"outlinewidth\": 0, \"ticks\": \"\"}, \"type\": \"contourcarpet\"}], \"heatmap\": [{\"colorbar\": {\"outlinewidth\": 0, \"ticks\": \"\"}, \"colorscale\": [[0.0, \"#0d0887\"], [0.1111111111111111, \"#46039f\"], [0.2222222222222222, \"#7201a8\"], [0.3333333333333333, \"#9c179e\"], [0.4444444444444444, \"#bd3786\"], [0.5555555555555556, \"#d8576b\"], [0.6666666666666666, \"#ed7953\"], [0.7777777777777778, \"#fb9f3a\"], [0.8888888888888888, \"#fdca26\"], [1.0, \"#f0f921\"]], \"type\": \"heatmap\"}], \"heatmapgl\": [{\"colorbar\": {\"outlinewidth\": 0, \"ticks\": \"\"}, \"colorscale\": [[0.0, \"#0d0887\"], [0.1111111111111111, \"#46039f\"], [0.2222222222222222, \"#7201a8\"], [0.3333333333333333, \"#9c179e\"], [0.4444444444444444, \"#bd3786\"], [0.5555555555555556, \"#d8576b\"], [0.6666666666666666, \"#ed7953\"], [0.7777777777777778, \"#fb9f3a\"], [0.8888888888888888, \"#fdca26\"], [1.0, \"#f0f921\"]], \"type\": \"heatmapgl\"}], \"histogram\": [{\"marker\": {\"colorbar\": {\"outlinewidth\": 0, \"ticks\": \"\"}}, \"type\": \"histogram\"}], \"histogram2d\": [{\"colorbar\": {\"outlinewidth\": 0, \"ticks\": \"\"}, \"colorscale\": [[0.0, \"#0d0887\"], [0.1111111111111111, \"#46039f\"], [0.2222222222222222, \"#7201a8\"], [0.3333333333333333, \"#9c179e\"], [0.4444444444444444, \"#bd3786\"], [0.5555555555555556, \"#d8576b\"], [0.6666666666666666, \"#ed7953\"], [0.7777777777777778, \"#fb9f3a\"], [0.8888888888888888, \"#fdca26\"], [1.0, \"#f0f921\"]], \"type\": \"histogram2d\"}], \"histogram2dcontour\": [{\"colorbar\": {\"outlinewidth\": 0, \"ticks\": \"\"}, \"colorscale\": [[0.0, \"#0d0887\"], [0.1111111111111111, \"#46039f\"], [0.2222222222222222, \"#7201a8\"], [0.3333333333333333, \"#9c179e\"], [0.4444444444444444, \"#bd3786\"], [0.5555555555555556, \"#d8576b\"], [0.6666666666666666, \"#ed7953\"], [0.7777777777777778, \"#fb9f3a\"], [0.8888888888888888, \"#fdca26\"], [1.0, \"#f0f921\"]], \"type\": \"histogram2dcontour\"}], \"mesh3d\": [{\"colorbar\": {\"outlinewidth\": 0, \"ticks\": \"\"}, \"type\": \"mesh3d\"}], \"parcoords\": [{\"line\": {\"colorbar\": {\"outlinewidth\": 0, \"ticks\": \"\"}}, \"type\": \"parcoords\"}], \"pie\": [{\"automargin\": true, \"type\": \"pie\"}], \"scatter\": [{\"marker\": {\"colorbar\": {\"outlinewidth\": 0, \"ticks\": \"\"}}, \"type\": \"scatter\"}], \"scatter3d\": [{\"line\": {\"colorbar\": {\"outlinewidth\": 0, \"ticks\": \"\"}}, \"marker\": {\"colorbar\": {\"outlinewidth\": 0, \"ticks\": \"\"}}, \"type\": \"scatter3d\"}], \"scattercarpet\": [{\"marker\": {\"colorbar\": {\"outlinewidth\": 0, \"ticks\": \"\"}}, \"type\": \"scattercarpet\"}], \"scattergeo\": [{\"marker\": {\"colorbar\": {\"outlinewidth\": 0, \"ticks\": \"\"}}, \"type\": \"scattergeo\"}], \"scattergl\": [{\"marker\": {\"colorbar\": {\"outlinewidth\": 0, \"ticks\": \"\"}}, \"type\": \"scattergl\"}], \"scattermapbox\": [{\"marker\": {\"colorbar\": {\"outlinewidth\": 0, \"ticks\": \"\"}}, \"type\": \"scattermapbox\"}], \"scatterpolar\": [{\"marker\": {\"colorbar\": {\"outlinewidth\": 0, \"ticks\": \"\"}}, \"type\": \"scatterpolar\"}], \"scatterpolargl\": [{\"marker\": {\"colorbar\": {\"outlinewidth\": 0, \"ticks\": \"\"}}, \"type\": \"scatterpolargl\"}], \"scatterternary\": [{\"marker\": {\"colorbar\": {\"outlinewidth\": 0, \"ticks\": \"\"}}, \"type\": \"scatterternary\"}], \"surface\": [{\"colorbar\": {\"outlinewidth\": 0, \"ticks\": \"\"}, \"colorscale\": [[0.0, \"#0d0887\"], [0.1111111111111111, \"#46039f\"], [0.2222222222222222, \"#7201a8\"], [0.3333333333333333, \"#9c179e\"], [0.4444444444444444, \"#bd3786\"], [0.5555555555555556, \"#d8576b\"], [0.6666666666666666, \"#ed7953\"], [0.7777777777777778, \"#fb9f3a\"], [0.8888888888888888, \"#fdca26\"], [1.0, \"#f0f921\"]], \"type\": \"surface\"}], \"table\": [{\"cells\": {\"fill\": {\"color\": \"#EBF0F8\"}, \"line\": {\"color\": \"white\"}}, \"header\": {\"fill\": {\"color\": \"#C8D4E3\"}, \"line\": {\"color\": \"white\"}}, \"type\": \"table\"}]}, \"layout\": {\"annotationdefaults\": {\"arrowcolor\": \"#2a3f5f\", \"arrowhead\": 0, \"arrowwidth\": 1}, \"coloraxis\": {\"colorbar\": {\"outlinewidth\": 0, \"ticks\": \"\"}}, \"colorscale\": {\"diverging\": [[0, \"#8e0152\"], [0.1, \"#c51b7d\"], [0.2, \"#de77ae\"], [0.3, \"#f1b6da\"], [0.4, \"#fde0ef\"], [0.5, \"#f7f7f7\"], [0.6, \"#e6f5d0\"], [0.7, \"#b8e186\"], [0.8, \"#7fbc41\"], [0.9, \"#4d9221\"], [1, \"#276419\"]], \"sequential\": [[0.0, \"#0d0887\"], [0.1111111111111111, \"#46039f\"], [0.2222222222222222, \"#7201a8\"], [0.3333333333333333, \"#9c179e\"], [0.4444444444444444, \"#bd3786\"], [0.5555555555555556, \"#d8576b\"], [0.6666666666666666, \"#ed7953\"], [0.7777777777777778, \"#fb9f3a\"], [0.8888888888888888, \"#fdca26\"], [1.0, \"#f0f921\"]], \"sequentialminus\": [[0.0, \"#0d0887\"], [0.1111111111111111, \"#46039f\"], [0.2222222222222222, \"#7201a8\"], [0.3333333333333333, \"#9c179e\"], [0.4444444444444444, \"#bd3786\"], [0.5555555555555556, \"#d8576b\"], [0.6666666666666666, \"#ed7953\"], [0.7777777777777778, \"#fb9f3a\"], [0.8888888888888888, \"#fdca26\"], [1.0, \"#f0f921\"]]}, \"colorway\": [\"#636efa\", \"#EF553B\", \"#00cc96\", \"#ab63fa\", \"#FFA15A\", \"#19d3f3\", \"#FF6692\", \"#B6E880\", \"#FF97FF\", \"#FECB52\"], \"font\": {\"color\": \"#2a3f5f\"}, \"geo\": {\"bgcolor\": \"white\", \"lakecolor\": \"white\", \"landcolor\": \"#E5ECF6\", \"showlakes\": true, \"showland\": true, \"subunitcolor\": \"white\"}, \"hoverlabel\": {\"align\": \"left\"}, \"hovermode\": \"closest\", \"mapbox\": {\"style\": \"light\"}, \"paper_bgcolor\": \"white\", \"plot_bgcolor\": \"#E5ECF6\", \"polar\": {\"angularaxis\": {\"gridcolor\": \"white\", \"linecolor\": \"white\", \"ticks\": \"\"}, \"bgcolor\": \"#E5ECF6\", \"radialaxis\": {\"gridcolor\": \"white\", \"linecolor\": \"white\", \"ticks\": \"\"}}, \"scene\": {\"xaxis\": {\"backgroundcolor\": \"#E5ECF6\", \"gridcolor\": \"white\", \"gridwidth\": 2, \"linecolor\": \"white\", \"showbackground\": true, \"ticks\": \"\", \"zerolinecolor\": \"white\"}, \"yaxis\": {\"backgroundcolor\": \"#E5ECF6\", \"gridcolor\": \"white\", \"gridwidth\": 2, \"linecolor\": \"white\", \"showbackground\": true, \"ticks\": \"\", \"zerolinecolor\": \"white\"}, \"zaxis\": {\"backgroundcolor\": \"#E5ECF6\", \"gridcolor\": \"white\", \"gridwidth\": 2, \"linecolor\": \"white\", \"showbackground\": true, \"ticks\": \"\", \"zerolinecolor\": \"white\"}}, \"shapedefaults\": {\"line\": {\"color\": \"#2a3f5f\"}}, \"ternary\": {\"aaxis\": {\"gridcolor\": \"white\", \"linecolor\": \"white\", \"ticks\": \"\"}, \"baxis\": {\"gridcolor\": \"white\", \"linecolor\": \"white\", \"ticks\": \"\"}, \"bgcolor\": \"#E5ECF6\", \"caxis\": {\"gridcolor\": \"white\", \"linecolor\": \"white\", \"ticks\": \"\"}}, \"title\": {\"x\": 0.05}, \"xaxis\": {\"automargin\": true, \"gridcolor\": \"white\", \"linecolor\": \"white\", \"ticks\": \"\", \"title\": {\"standoff\": 15}, \"zerolinecolor\": \"white\", \"zerolinewidth\": 2}, \"yaxis\": {\"automargin\": true, \"gridcolor\": \"white\", \"linecolor\": \"white\", \"ticks\": \"\", \"title\": {\"standoff\": 15}, \"zerolinecolor\": \"white\", \"zerolinewidth\": 2}}}},\n",
       "                        {\"responsive\": true}\n",
       "                    ).then(function(){\n",
       "                            \n",
       "var gd = document.getElementById('d3d8b9a3-efb5-439a-9ffc-db2db07ab793');\n",
       "var x = new MutationObserver(function (mutations, observer) {{\n",
       "        var display = window.getComputedStyle(gd).display;\n",
       "        if (!display || display === 'none') {{\n",
       "            console.log([gd, 'removed!']);\n",
       "            Plotly.purge(gd);\n",
       "            observer.disconnect();\n",
       "        }}\n",
       "}});\n",
       "\n",
       "// Listen for the removal of the full notebook cells\n",
       "var notebookContainer = gd.closest('#notebook-container');\n",
       "if (notebookContainer) {{\n",
       "    x.observe(notebookContainer, {childList: true});\n",
       "}}\n",
       "\n",
       "// Listen for the clearing of the current output cell\n",
       "var outputEl = gd.closest('.output');\n",
       "if (outputEl) {{\n",
       "    x.observe(outputEl, {childList: true});\n",
       "}}\n",
       "\n",
       "                        })\n",
       "                };\n",
       "                });\n",
       "            </script>\n",
       "        </div>"
      ]
     },
     "metadata": {},
     "output_type": "display_data"
    }
   ],
   "source": [
    "data_rate = []\n",
    "\n",
    "for genre in rate['Genre'].unique():\n",
    "    data_rate.append(\n",
    "        go.Box(y=rate[rate.Genre==genre].Rating, \n",
    "               name=genre)\n",
    "    )\n",
    "    \n",
    "iplot(data_rate, show_link = False)"
   ]
  }
 ],
 "metadata": {
  "kernelspec": {
   "display_name": "Python 3",
   "language": "python",
   "name": "python3"
  },
  "language_info": {
   "codemirror_mode": {
    "name": "ipython",
    "version": 3
   },
   "file_extension": ".py",
   "mimetype": "text/x-python",
   "name": "python",
   "nbconvert_exporter": "python",
   "pygments_lexer": "ipython3",
   "version": "3.7.4"
  }
 },
 "nbformat": 4,
 "nbformat_minor": 2
}
